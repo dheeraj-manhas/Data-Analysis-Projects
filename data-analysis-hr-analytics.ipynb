{
 "cells": [
  {
   "cell_type": "code",
   "execution_count": 1,
   "id": "86c8b67e",
   "metadata": {
    "_cell_guid": "b1076dfc-b9ad-4769-8c92-a6c4dae69d19",
    "_uuid": "8f2839f25d086af736a60e9eeb907d3b93b6e0e5",
    "execution": {
     "iopub.execute_input": "2024-05-16T06:46:49.021164Z",
     "iopub.status.busy": "2024-05-16T06:46:49.020338Z",
     "iopub.status.idle": "2024-05-16T06:46:51.253577Z",
     "shell.execute_reply": "2024-05-16T06:46:51.252305Z"
    },
    "papermill": {
     "duration": 2.251618,
     "end_time": "2024-05-16T06:46:51.256022",
     "exception": false,
     "start_time": "2024-05-16T06:46:49.004404",
     "status": "completed"
    },
    "tags": []
   },
   "outputs": [
    {
     "name": "stdout",
     "output_type": "stream",
     "text": [
      "/kaggle/input/hr-analytics-job-change-of-data-scientists/sample_submission.csv\n",
      "/kaggle/input/hr-analytics-job-change-of-data-scientists/aug_test.csv\n",
      "/kaggle/input/hr-analytics-job-change-of-data-scientists/aug_train.csv\n"
     ]
    }
   ],
   "source": [
    "# This Python 3 environment comes with many helpful analytics libraries installed\n",
    "# It is defined by the kaggle/python Docker image: https://github.com/kaggle/docker-python\n",
    "# For example, here's several helpful packages to load\n",
    "\n",
    "import numpy as np \n",
    "import pandas as pd \n",
    "import matplotlib.pyplot as plt\n",
    "import seaborn as sns\n",
    "import warnings\n",
    "warnings.simplefilter('ignore')\n",
    "\n",
    "# Input data files are available in the read-only \"../input/\" directory\n",
    "# For example, running this (by clicking run or pressing Shift+Enter) will list all files under the input directory\n",
    "\n",
    "import os\n",
    "for dirname, _, filenames in os.walk('/kaggle/input'):\n",
    "    for filename in filenames:\n",
    "        print(os.path.join(dirname, filename))\n",
    "\n",
    "# You can write up to 20GB to the current directory (/kaggle/working/) that gets preserved as output when you create a version using \"Save & Run All\" \n",
    "# You can also write temporary files to /kaggle/temp/, but they won't be saved outside of the current session"
   ]
  },
  {
   "cell_type": "code",
   "execution_count": 2,
   "id": "f8cff7bd",
   "metadata": {
    "execution": {
     "iopub.execute_input": "2024-05-16T06:46:51.285307Z",
     "iopub.status.busy": "2024-05-16T06:46:51.284532Z",
     "iopub.status.idle": "2024-05-16T06:46:51.417481Z",
     "shell.execute_reply": "2024-05-16T06:46:51.416212Z"
    },
    "papermill": {
     "duration": 0.150216,
     "end_time": "2024-05-16T06:46:51.420018",
     "exception": false,
     "start_time": "2024-05-16T06:46:51.269802",
     "status": "completed"
    },
    "tags": []
   },
   "outputs": [
    {
     "data": {
      "text/html": [
       "<div>\n",
       "<style scoped>\n",
       "    .dataframe tbody tr th:only-of-type {\n",
       "        vertical-align: middle;\n",
       "    }\n",
       "\n",
       "    .dataframe tbody tr th {\n",
       "        vertical-align: top;\n",
       "    }\n",
       "\n",
       "    .dataframe thead th {\n",
       "        text-align: right;\n",
       "    }\n",
       "</style>\n",
       "<table border=\"1\" class=\"dataframe\">\n",
       "  <thead>\n",
       "    <tr style=\"text-align: right;\">\n",
       "      <th></th>\n",
       "      <th>enrollee_id</th>\n",
       "      <th>city</th>\n",
       "      <th>city_development_index</th>\n",
       "      <th>gender</th>\n",
       "      <th>relevent_experience</th>\n",
       "      <th>enrolled_university</th>\n",
       "      <th>education_level</th>\n",
       "      <th>major_discipline</th>\n",
       "      <th>experience</th>\n",
       "      <th>company_size</th>\n",
       "      <th>company_type</th>\n",
       "      <th>last_new_job</th>\n",
       "      <th>training_hours</th>\n",
       "      <th>target</th>\n",
       "    </tr>\n",
       "  </thead>\n",
       "  <tbody>\n",
       "    <tr>\n",
       "      <th>0</th>\n",
       "      <td>8949</td>\n",
       "      <td>city_103</td>\n",
       "      <td>0.920</td>\n",
       "      <td>Male</td>\n",
       "      <td>Has relevent experience</td>\n",
       "      <td>no_enrollment</td>\n",
       "      <td>Graduate</td>\n",
       "      <td>STEM</td>\n",
       "      <td>&gt;20</td>\n",
       "      <td>NaN</td>\n",
       "      <td>NaN</td>\n",
       "      <td>1</td>\n",
       "      <td>36</td>\n",
       "      <td>1.0</td>\n",
       "    </tr>\n",
       "    <tr>\n",
       "      <th>1</th>\n",
       "      <td>29725</td>\n",
       "      <td>city_40</td>\n",
       "      <td>0.776</td>\n",
       "      <td>Male</td>\n",
       "      <td>No relevent experience</td>\n",
       "      <td>no_enrollment</td>\n",
       "      <td>Graduate</td>\n",
       "      <td>STEM</td>\n",
       "      <td>15</td>\n",
       "      <td>50-99</td>\n",
       "      <td>Pvt Ltd</td>\n",
       "      <td>&gt;4</td>\n",
       "      <td>47</td>\n",
       "      <td>0.0</td>\n",
       "    </tr>\n",
       "    <tr>\n",
       "      <th>2</th>\n",
       "      <td>11561</td>\n",
       "      <td>city_21</td>\n",
       "      <td>0.624</td>\n",
       "      <td>NaN</td>\n",
       "      <td>No relevent experience</td>\n",
       "      <td>Full time course</td>\n",
       "      <td>Graduate</td>\n",
       "      <td>STEM</td>\n",
       "      <td>5</td>\n",
       "      <td>NaN</td>\n",
       "      <td>NaN</td>\n",
       "      <td>never</td>\n",
       "      <td>83</td>\n",
       "      <td>0.0</td>\n",
       "    </tr>\n",
       "    <tr>\n",
       "      <th>3</th>\n",
       "      <td>33241</td>\n",
       "      <td>city_115</td>\n",
       "      <td>0.789</td>\n",
       "      <td>NaN</td>\n",
       "      <td>No relevent experience</td>\n",
       "      <td>NaN</td>\n",
       "      <td>Graduate</td>\n",
       "      <td>Business Degree</td>\n",
       "      <td>&lt;1</td>\n",
       "      <td>NaN</td>\n",
       "      <td>Pvt Ltd</td>\n",
       "      <td>never</td>\n",
       "      <td>52</td>\n",
       "      <td>1.0</td>\n",
       "    </tr>\n",
       "    <tr>\n",
       "      <th>4</th>\n",
       "      <td>666</td>\n",
       "      <td>city_162</td>\n",
       "      <td>0.767</td>\n",
       "      <td>Male</td>\n",
       "      <td>Has relevent experience</td>\n",
       "      <td>no_enrollment</td>\n",
       "      <td>Masters</td>\n",
       "      <td>STEM</td>\n",
       "      <td>&gt;20</td>\n",
       "      <td>50-99</td>\n",
       "      <td>Funded Startup</td>\n",
       "      <td>4</td>\n",
       "      <td>8</td>\n",
       "      <td>0.0</td>\n",
       "    </tr>\n",
       "    <tr>\n",
       "      <th>...</th>\n",
       "      <td>...</td>\n",
       "      <td>...</td>\n",
       "      <td>...</td>\n",
       "      <td>...</td>\n",
       "      <td>...</td>\n",
       "      <td>...</td>\n",
       "      <td>...</td>\n",
       "      <td>...</td>\n",
       "      <td>...</td>\n",
       "      <td>...</td>\n",
       "      <td>...</td>\n",
       "      <td>...</td>\n",
       "      <td>...</td>\n",
       "      <td>...</td>\n",
       "    </tr>\n",
       "    <tr>\n",
       "      <th>19153</th>\n",
       "      <td>7386</td>\n",
       "      <td>city_173</td>\n",
       "      <td>0.878</td>\n",
       "      <td>Male</td>\n",
       "      <td>No relevent experience</td>\n",
       "      <td>no_enrollment</td>\n",
       "      <td>Graduate</td>\n",
       "      <td>Humanities</td>\n",
       "      <td>14</td>\n",
       "      <td>NaN</td>\n",
       "      <td>NaN</td>\n",
       "      <td>1</td>\n",
       "      <td>42</td>\n",
       "      <td>1.0</td>\n",
       "    </tr>\n",
       "    <tr>\n",
       "      <th>19154</th>\n",
       "      <td>31398</td>\n",
       "      <td>city_103</td>\n",
       "      <td>0.920</td>\n",
       "      <td>Male</td>\n",
       "      <td>Has relevent experience</td>\n",
       "      <td>no_enrollment</td>\n",
       "      <td>Graduate</td>\n",
       "      <td>STEM</td>\n",
       "      <td>14</td>\n",
       "      <td>NaN</td>\n",
       "      <td>NaN</td>\n",
       "      <td>4</td>\n",
       "      <td>52</td>\n",
       "      <td>1.0</td>\n",
       "    </tr>\n",
       "    <tr>\n",
       "      <th>19155</th>\n",
       "      <td>24576</td>\n",
       "      <td>city_103</td>\n",
       "      <td>0.920</td>\n",
       "      <td>Male</td>\n",
       "      <td>Has relevent experience</td>\n",
       "      <td>no_enrollment</td>\n",
       "      <td>Graduate</td>\n",
       "      <td>STEM</td>\n",
       "      <td>&gt;20</td>\n",
       "      <td>50-99</td>\n",
       "      <td>Pvt Ltd</td>\n",
       "      <td>4</td>\n",
       "      <td>44</td>\n",
       "      <td>0.0</td>\n",
       "    </tr>\n",
       "    <tr>\n",
       "      <th>19156</th>\n",
       "      <td>5756</td>\n",
       "      <td>city_65</td>\n",
       "      <td>0.802</td>\n",
       "      <td>Male</td>\n",
       "      <td>Has relevent experience</td>\n",
       "      <td>no_enrollment</td>\n",
       "      <td>High School</td>\n",
       "      <td>NaN</td>\n",
       "      <td>&lt;1</td>\n",
       "      <td>500-999</td>\n",
       "      <td>Pvt Ltd</td>\n",
       "      <td>2</td>\n",
       "      <td>97</td>\n",
       "      <td>0.0</td>\n",
       "    </tr>\n",
       "    <tr>\n",
       "      <th>19157</th>\n",
       "      <td>23834</td>\n",
       "      <td>city_67</td>\n",
       "      <td>0.855</td>\n",
       "      <td>NaN</td>\n",
       "      <td>No relevent experience</td>\n",
       "      <td>no_enrollment</td>\n",
       "      <td>Primary School</td>\n",
       "      <td>NaN</td>\n",
       "      <td>2</td>\n",
       "      <td>NaN</td>\n",
       "      <td>NaN</td>\n",
       "      <td>1</td>\n",
       "      <td>127</td>\n",
       "      <td>0.0</td>\n",
       "    </tr>\n",
       "  </tbody>\n",
       "</table>\n",
       "<p>19158 rows × 14 columns</p>\n",
       "</div>"
      ],
      "text/plain": [
       "       enrollee_id      city  city_development_index gender  \\\n",
       "0             8949  city_103                   0.920   Male   \n",
       "1            29725   city_40                   0.776   Male   \n",
       "2            11561   city_21                   0.624    NaN   \n",
       "3            33241  city_115                   0.789    NaN   \n",
       "4              666  city_162                   0.767   Male   \n",
       "...            ...       ...                     ...    ...   \n",
       "19153         7386  city_173                   0.878   Male   \n",
       "19154        31398  city_103                   0.920   Male   \n",
       "19155        24576  city_103                   0.920   Male   \n",
       "19156         5756   city_65                   0.802   Male   \n",
       "19157        23834   city_67                   0.855    NaN   \n",
       "\n",
       "           relevent_experience enrolled_university education_level  \\\n",
       "0      Has relevent experience       no_enrollment        Graduate   \n",
       "1       No relevent experience       no_enrollment        Graduate   \n",
       "2       No relevent experience    Full time course        Graduate   \n",
       "3       No relevent experience                 NaN        Graduate   \n",
       "4      Has relevent experience       no_enrollment         Masters   \n",
       "...                        ...                 ...             ...   \n",
       "19153   No relevent experience       no_enrollment        Graduate   \n",
       "19154  Has relevent experience       no_enrollment        Graduate   \n",
       "19155  Has relevent experience       no_enrollment        Graduate   \n",
       "19156  Has relevent experience       no_enrollment     High School   \n",
       "19157   No relevent experience       no_enrollment  Primary School   \n",
       "\n",
       "      major_discipline experience company_size    company_type last_new_job  \\\n",
       "0                 STEM        >20          NaN             NaN            1   \n",
       "1                 STEM         15        50-99         Pvt Ltd           >4   \n",
       "2                 STEM          5          NaN             NaN        never   \n",
       "3      Business Degree         <1          NaN         Pvt Ltd        never   \n",
       "4                 STEM        >20        50-99  Funded Startup            4   \n",
       "...                ...        ...          ...             ...          ...   \n",
       "19153       Humanities         14          NaN             NaN            1   \n",
       "19154             STEM         14          NaN             NaN            4   \n",
       "19155             STEM        >20        50-99         Pvt Ltd            4   \n",
       "19156              NaN         <1      500-999         Pvt Ltd            2   \n",
       "19157              NaN          2          NaN             NaN            1   \n",
       "\n",
       "       training_hours  target  \n",
       "0                  36     1.0  \n",
       "1                  47     0.0  \n",
       "2                  83     0.0  \n",
       "3                  52     1.0  \n",
       "4                   8     0.0  \n",
       "...               ...     ...  \n",
       "19153              42     1.0  \n",
       "19154              52     1.0  \n",
       "19155              44     0.0  \n",
       "19156              97     0.0  \n",
       "19157             127     0.0  \n",
       "\n",
       "[19158 rows x 14 columns]"
      ]
     },
     "execution_count": 2,
     "metadata": {},
     "output_type": "execute_result"
    }
   ],
   "source": [
    "df = pd.read_csv('/kaggle/input/hr-analytics-job-change-of-data-scientists/aug_train.csv')\n",
    "df"
   ]
  },
  {
   "cell_type": "code",
   "execution_count": 3,
   "id": "ed931eb6",
   "metadata": {
    "execution": {
     "iopub.execute_input": "2024-05-16T06:46:51.450936Z",
     "iopub.status.busy": "2024-05-16T06:46:51.450553Z",
     "iopub.status.idle": "2024-05-16T06:46:51.481554Z",
     "shell.execute_reply": "2024-05-16T06:46:51.480316Z"
    },
    "papermill": {
     "duration": 0.051183,
     "end_time": "2024-05-16T06:46:51.485015",
     "exception": false,
     "start_time": "2024-05-16T06:46:51.433832",
     "status": "completed"
    },
    "tags": []
   },
   "outputs": [
    {
     "name": "stdout",
     "output_type": "stream",
     "text": [
      "<class 'pandas.core.frame.DataFrame'>\n",
      "RangeIndex: 19158 entries, 0 to 19157\n",
      "Data columns (total 14 columns):\n",
      " #   Column                  Non-Null Count  Dtype  \n",
      "---  ------                  --------------  -----  \n",
      " 0   enrollee_id             19158 non-null  int64  \n",
      " 1   city                    19158 non-null  object \n",
      " 2   city_development_index  19158 non-null  float64\n",
      " 3   gender                  14650 non-null  object \n",
      " 4   relevent_experience     19158 non-null  object \n",
      " 5   enrolled_university     18772 non-null  object \n",
      " 6   education_level         18698 non-null  object \n",
      " 7   major_discipline        16345 non-null  object \n",
      " 8   experience              19093 non-null  object \n",
      " 9   company_size            13220 non-null  object \n",
      " 10  company_type            13018 non-null  object \n",
      " 11  last_new_job            18735 non-null  object \n",
      " 12  training_hours          19158 non-null  int64  \n",
      " 13  target                  19158 non-null  float64\n",
      "dtypes: float64(2), int64(2), object(10)\n",
      "memory usage: 2.0+ MB\n"
     ]
    }
   ],
   "source": [
    "df.info()"
   ]
  },
  {
   "cell_type": "markdown",
   "id": "eb4984bd",
   "metadata": {
    "papermill": {
     "duration": 0.013212,
     "end_time": "2024-05-16T06:46:51.512177",
     "exception": false,
     "start_time": "2024-05-16T06:46:51.498965",
     "status": "completed"
    },
    "tags": []
   },
   "source": [
    "# Data Understanding,Visualization & Analysis"
   ]
  },
  {
   "cell_type": "markdown",
   "id": "7f6c6cf4",
   "metadata": {
    "papermill": {
     "duration": 0.013193,
     "end_time": "2024-05-16T06:46:51.538954",
     "exception": false,
     "start_time": "2024-05-16T06:46:51.525761",
     "status": "completed"
    },
    "tags": []
   },
   "source": [
    "**Meaning of each Variable**"
   ]
  },
  {
   "cell_type": "markdown",
   "id": "2ead6367",
   "metadata": {
    "papermill": {
     "duration": 0.013369,
     "end_time": "2024-05-16T06:46:51.566218",
     "exception": false,
     "start_time": "2024-05-16T06:46:51.552849",
     "status": "completed"
    },
    "tags": []
   },
   "source": [
    "* enrollee_id : Unique ID for candidate.\n",
    "* city: City code.\n",
    "* city_ development _index : Developement index of the city (scaled).\n",
    "* gender: Gender of candidate\n",
    "* relevent_experience: Relevant experience of candidate\n",
    "* enrolled_university: Type of University course enrolled if any\n",
    "* education_level: Education level of candidate\n",
    "* major_discipline :Education major discipline of candidate\n",
    "* experience: Candidate total experience in years\n",
    "* company_size: No of employees in current employer's company\n",
    "* company_type : Type of current employer\n",
    "* last_new_job: Difference in years between previous job and current job\n",
    "* training_hours: training hours completed\n",
    "* target: 0 – Not looking for job change, 1 – Looking for a job change"
   ]
  },
  {
   "cell_type": "markdown",
   "id": "8612f863",
   "metadata": {
    "papermill": {
     "duration": 0.013484,
     "end_time": "2024-05-16T06:46:51.593800",
     "exception": false,
     "start_time": "2024-05-16T06:46:51.580316",
     "status": "completed"
    },
    "tags": []
   },
   "source": [
    "**Cheking for Missing Values**"
   ]
  },
  {
   "cell_type": "code",
   "execution_count": 4,
   "id": "071de70c",
   "metadata": {
    "execution": {
     "iopub.execute_input": "2024-05-16T06:46:51.622634Z",
     "iopub.status.busy": "2024-05-16T06:46:51.622260Z",
     "iopub.status.idle": "2024-05-16T06:46:51.640365Z",
     "shell.execute_reply": "2024-05-16T06:46:51.639299Z"
    },
    "papermill": {
     "duration": 0.035281,
     "end_time": "2024-05-16T06:46:51.642715",
     "exception": false,
     "start_time": "2024-05-16T06:46:51.607434",
     "status": "completed"
    },
    "tags": []
   },
   "outputs": [
    {
     "data": {
      "text/plain": [
       "enrollee_id                  0\n",
       "city                         0\n",
       "city_development_index       0\n",
       "gender                    4508\n",
       "relevent_experience          0\n",
       "enrolled_university        386\n",
       "education_level            460\n",
       "major_discipline          2813\n",
       "experience                  65\n",
       "company_size              5938\n",
       "company_type              6140\n",
       "last_new_job               423\n",
       "training_hours               0\n",
       "target                       0\n",
       "dtype: int64"
      ]
     },
     "execution_count": 4,
     "metadata": {},
     "output_type": "execute_result"
    }
   ],
   "source": [
    "df.isnull().sum()"
   ]
  },
  {
   "cell_type": "markdown",
   "id": "c1ea460c",
   "metadata": {
    "papermill": {
     "duration": 0.013876,
     "end_time": "2024-05-16T06:46:51.670155",
     "exception": false,
     "start_time": "2024-05-16T06:46:51.656279",
     "status": "completed"
    },
    "tags": []
   },
   "source": [
    "* Only city, city development index, relevent experience, training hours and target not have missing values\n",
    "* Other than that company type has maximum missing values after then company size then gender etc"
   ]
  },
  {
   "cell_type": "markdown",
   "id": "bfec9dd6",
   "metadata": {
    "papermill": {
     "duration": 0.013305,
     "end_time": "2024-05-16T06:46:51.697747",
     "exception": false,
     "start_time": "2024-05-16T06:46:51.684442",
     "status": "completed"
    },
    "tags": []
   },
   "source": [
    "**Checking for Unique Values**"
   ]
  },
  {
   "cell_type": "code",
   "execution_count": 5,
   "id": "279615f6",
   "metadata": {
    "execution": {
     "iopub.execute_input": "2024-05-16T06:46:51.728839Z",
     "iopub.status.busy": "2024-05-16T06:46:51.726769Z",
     "iopub.status.idle": "2024-05-16T06:46:51.746929Z",
     "shell.execute_reply": "2024-05-16T06:46:51.746000Z"
    },
    "papermill": {
     "duration": 0.037895,
     "end_time": "2024-05-16T06:46:51.749163",
     "exception": false,
     "start_time": "2024-05-16T06:46:51.711268",
     "status": "completed"
    },
    "tags": []
   },
   "outputs": [
    {
     "data": {
      "text/plain": [
       "enrollee_id               19158\n",
       "city                        123\n",
       "city_development_index       93\n",
       "gender                        3\n",
       "relevent_experience           2\n",
       "enrolled_university           3\n",
       "education_level               5\n",
       "major_discipline              6\n",
       "experience                   22\n",
       "company_size                  8\n",
       "company_type                  6\n",
       "last_new_job                  6\n",
       "training_hours              241\n",
       "target                        2\n",
       "dtype: int64"
      ]
     },
     "execution_count": 5,
     "metadata": {},
     "output_type": "execute_result"
    }
   ],
   "source": [
    "df.nunique()"
   ]
  },
  {
   "cell_type": "markdown",
   "id": "5f7d646d",
   "metadata": {
    "papermill": {
     "duration": 0.0134,
     "end_time": "2024-05-16T06:46:51.776419",
     "exception": false,
     "start_time": "2024-05-16T06:46:51.763019",
     "status": "completed"
    },
    "tags": []
   },
   "source": [
    "**Checking for Duplicate Values**"
   ]
  },
  {
   "cell_type": "code",
   "execution_count": 6,
   "id": "e110454b",
   "metadata": {
    "execution": {
     "iopub.execute_input": "2024-05-16T06:46:51.806122Z",
     "iopub.status.busy": "2024-05-16T06:46:51.805765Z",
     "iopub.status.idle": "2024-05-16T06:46:51.829571Z",
     "shell.execute_reply": "2024-05-16T06:46:51.828434Z"
    },
    "papermill": {
     "duration": 0.042096,
     "end_time": "2024-05-16T06:46:51.832124",
     "exception": false,
     "start_time": "2024-05-16T06:46:51.790028",
     "status": "completed"
    },
    "tags": []
   },
   "outputs": [
    {
     "data": {
      "text/plain": [
       "0"
      ]
     },
     "execution_count": 6,
     "metadata": {},
     "output_type": "execute_result"
    }
   ],
   "source": [
    "df.duplicated().sum()"
   ]
  },
  {
   "cell_type": "markdown",
   "id": "9ca73e86",
   "metadata": {
    "papermill": {
     "duration": 0.013619,
     "end_time": "2024-05-16T06:46:51.859778",
     "exception": false,
     "start_time": "2024-05-16T06:46:51.846159",
     "status": "completed"
    },
    "tags": []
   },
   "source": [
    "* It has no duplicate record"
   ]
  },
  {
   "cell_type": "markdown",
   "id": "0f60fcb8",
   "metadata": {
    "papermill": {
     "duration": 0.013506,
     "end_time": "2024-05-16T06:46:51.886960",
     "exception": false,
     "start_time": "2024-05-16T06:46:51.873454",
     "status": "completed"
    },
    "tags": []
   },
   "source": [
    "**Analyzing Continous Variables**"
   ]
  },
  {
   "cell_type": "code",
   "execution_count": 7,
   "id": "ed132137",
   "metadata": {
    "execution": {
     "iopub.execute_input": "2024-05-16T06:46:51.915869Z",
     "iopub.status.busy": "2024-05-16T06:46:51.915469Z",
     "iopub.status.idle": "2024-05-16T06:46:51.928812Z",
     "shell.execute_reply": "2024-05-16T06:46:51.927644Z"
    },
    "papermill": {
     "duration": 0.030701,
     "end_time": "2024-05-16T06:46:51.931263",
     "exception": false,
     "start_time": "2024-05-16T06:46:51.900562",
     "status": "completed"
    },
    "tags": []
   },
   "outputs": [
    {
     "data": {
      "text/plain": [
       "count    19158.000000\n",
       "mean         0.828848\n",
       "std          0.123362\n",
       "min          0.448000\n",
       "25%          0.740000\n",
       "50%          0.903000\n",
       "75%          0.920000\n",
       "max          0.949000\n",
       "Name: city_development_index, dtype: float64"
      ]
     },
     "execution_count": 7,
     "metadata": {},
     "output_type": "execute_result"
    }
   ],
   "source": [
    "df['city_development_index'].describe()"
   ]
  },
  {
   "cell_type": "code",
   "execution_count": 8,
   "id": "92b4ce18",
   "metadata": {
    "execution": {
     "iopub.execute_input": "2024-05-16T06:46:51.960833Z",
     "iopub.status.busy": "2024-05-16T06:46:51.960439Z",
     "iopub.status.idle": "2024-05-16T06:46:52.447967Z",
     "shell.execute_reply": "2024-05-16T06:46:52.446757Z"
    },
    "papermill": {
     "duration": 0.5058,
     "end_time": "2024-05-16T06:46:52.451101",
     "exception": false,
     "start_time": "2024-05-16T06:46:51.945301",
     "status": "completed"
    },
    "tags": []
   },
   "outputs": [
    {
     "data": {
      "image/png": "[encoded data removed]",
      "text/plain": [
       "<Figure size 640x480 with 1 Axes>"
      ]
     },
     "metadata": {},
     "output_type": "display_data"
    }
   ],
   "source": [
    "sns.histplot(df['city_development_index'],bins=10,kde=True)\n",
    "plt.show()"
   ]
  },
  {
   "cell_type": "markdown",
   "id": "4a025f1a",
   "metadata": {
    "papermill": {
     "duration": 0.014463,
     "end_time": "2024-05-16T06:46:52.482659",
     "exception": false,
     "start_time": "2024-05-16T06:46:52.468196",
     "status": "completed"
    },
    "tags": []
   },
   "source": [
    "* City development index has minimum value of 0.448000 and maximum value of 0.949000\n",
    "* Mean of 0.828848 and Standard Deviation 0.123362"
   ]
  },
  {
   "cell_type": "markdown",
   "id": "8aafced5",
   "metadata": {
    "papermill": {
     "duration": 0.014285,
     "end_time": "2024-05-16T06:46:52.511673",
     "exception": false,
     "start_time": "2024-05-16T06:46:52.497388",
     "status": "completed"
    },
    "tags": []
   },
   "source": [
    "**Outliers**"
   ]
  },
  {
   "cell_type": "code",
   "execution_count": 9,
   "id": "52937810",
   "metadata": {
    "execution": {
     "iopub.execute_input": "2024-05-16T06:46:52.543102Z",
     "iopub.status.busy": "2024-05-16T06:46:52.542732Z",
     "iopub.status.idle": "2024-05-16T06:46:52.713388Z",
     "shell.execute_reply": "2024-05-16T06:46:52.712018Z"
    },
    "papermill": {
     "duration": 0.189565,
     "end_time": "2024-05-16T06:46:52.715893",
     "exception": false,
     "start_time": "2024-05-16T06:46:52.526328",
     "status": "completed"
    },
    "tags": []
   },
   "outputs": [
    {
     "data": {
      "image/png": "[encoded data removed]",
      "text/plain": [
       "<Figure size 640x480 with 1 Axes>"
      ]
     },
     "metadata": {},
     "output_type": "display_data"
    }
   ],
   "source": [
    "sns.boxplot(df['city_development_index'])\n",
    "plt.show()"
   ]
  },
  {
   "cell_type": "markdown",
   "id": "361e0002",
   "metadata": {
    "papermill": {
     "duration": 0.016437,
     "end_time": "2024-05-16T06:46:52.747560",
     "exception": false,
     "start_time": "2024-05-16T06:46:52.731123",
     "status": "completed"
    },
    "tags": []
   },
   "source": [
    "**But we don't treat outliers acc to this type of data**"
   ]
  },
  {
   "cell_type": "code",
   "execution_count": 10,
   "id": "44576547",
   "metadata": {
    "execution": {
     "iopub.execute_input": "2024-05-16T06:46:52.841638Z",
     "iopub.status.busy": "2024-05-16T06:46:52.841269Z",
     "iopub.status.idle": "2024-05-16T06:46:52.853368Z",
     "shell.execute_reply": "2024-05-16T06:46:52.851933Z"
    },
    "papermill": {
     "duration": 0.031303,
     "end_time": "2024-05-16T06:46:52.856217",
     "exception": false,
     "start_time": "2024-05-16T06:46:52.824914",
     "status": "completed"
    },
    "tags": []
   },
   "outputs": [
    {
     "data": {
      "text/plain": [
       "count    19158.000000\n",
       "mean        65.366896\n",
       "std         60.058462\n",
       "min          1.000000\n",
       "25%         23.000000\n",
       "50%         47.000000\n",
       "75%         88.000000\n",
       "max        336.000000\n",
       "Name: training_hours, dtype: float64"
      ]
     },
     "execution_count": 10,
     "metadata": {},
     "output_type": "execute_result"
    }
   ],
   "source": [
    "df['training_hours'].describe()"
   ]
  },
  {
   "cell_type": "code",
   "execution_count": 11,
   "id": "922d0ead",
   "metadata": {
    "execution": {
     "iopub.execute_input": "2024-05-16T06:46:52.890937Z",
     "iopub.status.busy": "2024-05-16T06:46:52.890516Z",
     "iopub.status.idle": "2024-05-16T06:46:53.293140Z",
     "shell.execute_reply": "2024-05-16T06:46:53.291781Z"
    },
    "papermill": {
     "duration": 0.422726,
     "end_time": "2024-05-16T06:46:53.295459",
     "exception": false,
     "start_time": "2024-05-16T06:46:52.872733",
     "status": "completed"
    },
    "tags": []
   },
   "outputs": [
    {
     "data": {
      "image/png": "[encoded data removed]",
      "text/plain": [
       "<Figure size 640x480 with 1 Axes>"
      ]
     },
     "metadata": {},
     "output_type": "display_data"
    }
   ],
   "source": [
    "sns.histplot(df['training_hours'],bins=10,kde=True)\n",
    "plt.show()"
   ]
  },
  {
   "cell_type": "markdown",
   "id": "5c7d7233",
   "metadata": {
    "papermill": {
     "duration": 0.015106,
     "end_time": "2024-05-16T06:46:53.326334",
     "exception": false,
     "start_time": "2024-05-16T06:46:53.311228",
     "status": "completed"
    },
    "tags": []
   },
   "source": [
    "* Training Hours index has minimum value of 1 and maximum value of 336\n",
    "* Mean of 65.366896 and Standard Deviation 60.058462"
   ]
  },
  {
   "cell_type": "markdown",
   "id": "d4c994b4",
   "metadata": {
    "papermill": {
     "duration": 0.01519,
     "end_time": "2024-05-16T06:46:53.357009",
     "exception": false,
     "start_time": "2024-05-16T06:46:53.341819",
     "status": "completed"
    },
    "tags": []
   },
   "source": [
    "**Outliers**"
   ]
  },
  {
   "cell_type": "code",
   "execution_count": 12,
   "id": "72cfa794",
   "metadata": {
    "execution": {
     "iopub.execute_input": "2024-05-16T06:46:53.390156Z",
     "iopub.status.busy": "2024-05-16T06:46:53.389716Z",
     "iopub.status.idle": "2024-05-16T06:46:53.578640Z",
     "shell.execute_reply": "2024-05-16T06:46:53.577560Z"
    },
    "papermill": {
     "duration": 0.208278,
     "end_time": "2024-05-16T06:46:53.581084",
     "exception": false,
     "start_time": "2024-05-16T06:46:53.372806",
     "status": "completed"
    },
    "tags": []
   },
   "outputs": [
    {
     "data": {
      "image/png": "[encoded data removed]",
      "text/plain": [
       "<Figure size 640x480 with 1 Axes>"
      ]
     },
     "metadata": {},
     "output_type": "display_data"
    }
   ],
   "source": [
    "sns.boxplot(df['training_hours'])\n",
    "plt.show()"
   ]
  },
  {
   "cell_type": "markdown",
   "id": "44ee2beb",
   "metadata": {
    "papermill": {
     "duration": 0.015543,
     "end_time": "2024-05-16T06:46:53.612880",
     "exception": false,
     "start_time": "2024-05-16T06:46:53.597337",
     "status": "completed"
    },
    "tags": []
   },
   "source": [
    "**But we don't treat outliers acc to this type of data**"
   ]
  },
  {
   "cell_type": "code",
   "execution_count": 13,
   "id": "9485c16a",
   "metadata": {
    "execution": {
     "iopub.execute_input": "2024-05-16T06:46:53.646443Z",
     "iopub.status.busy": "2024-05-16T06:46:53.646054Z",
     "iopub.status.idle": "2024-05-16T06:46:53.656902Z",
     "shell.execute_reply": "2024-05-16T06:46:53.655811Z"
    },
    "papermill": {
     "duration": 0.030431,
     "end_time": "2024-05-16T06:46:53.659273",
     "exception": false,
     "start_time": "2024-05-16T06:46:53.628842",
     "status": "completed"
    },
    "tags": []
   },
   "outputs": [
    {
     "data": {
      "text/plain": [
       "count    19158.000000\n",
       "mean         0.249348\n",
       "std          0.432647\n",
       "min          0.000000\n",
       "25%          0.000000\n",
       "50%          0.000000\n",
       "75%          0.000000\n",
       "max          1.000000\n",
       "Name: target, dtype: float64"
      ]
     },
     "execution_count": 13,
     "metadata": {},
     "output_type": "execute_result"
    }
   ],
   "source": [
    "df['target'].describe()"
   ]
  },
  {
   "cell_type": "code",
   "execution_count": 14,
   "id": "4a7f061f",
   "metadata": {
    "execution": {
     "iopub.execute_input": "2024-05-16T06:46:53.692907Z",
     "iopub.status.busy": "2024-05-16T06:46:53.692539Z",
     "iopub.status.idle": "2024-05-16T06:46:54.081233Z",
     "shell.execute_reply": "2024-05-16T06:46:54.080070Z"
    },
    "papermill": {
     "duration": 0.408508,
     "end_time": "2024-05-16T06:46:54.083753",
     "exception": false,
     "start_time": "2024-05-16T06:46:53.675245",
     "status": "completed"
    },
    "tags": []
   },
   "outputs": [
    {
     "data": {
      "image/png": "[encoded data removed]",
      "text/plain": [
       "<Figure size 640x480 with 1 Axes>"
      ]
     },
     "metadata": {},
     "output_type": "display_data"
    }
   ],
   "source": [
    "sns.histplot(df['target'],bins=10,kde=True)\n",
    "plt.show()"
   ]
  },
  {
   "cell_type": "markdown",
   "id": "4ba13f85",
   "metadata": {
    "papermill": {
     "duration": 0.016224,
     "end_time": "2024-05-16T06:46:54.116465",
     "exception": false,
     "start_time": "2024-05-16T06:46:54.100241",
     "status": "completed"
    },
    "tags": []
   },
   "source": [
    "* Target has minimum value of 0 and maximum value of 1\n",
    "* Mean of 0.249348 and Standard Deviation 0.432647"
   ]
  },
  {
   "cell_type": "markdown",
   "id": "0dfd52b8",
   "metadata": {
    "papermill": {
     "duration": 0.016143,
     "end_time": "2024-05-16T06:46:54.149981",
     "exception": false,
     "start_time": "2024-05-16T06:46:54.133838",
     "status": "completed"
    },
    "tags": []
   },
   "source": [
    "**Outliers**"
   ]
  },
  {
   "cell_type": "code",
   "execution_count": 15,
   "id": "5db6678d",
   "metadata": {
    "execution": {
     "iopub.execute_input": "2024-05-16T06:46:54.184154Z",
     "iopub.status.busy": "2024-05-16T06:46:54.183765Z",
     "iopub.status.idle": "2024-05-16T06:46:54.363390Z",
     "shell.execute_reply": "2024-05-16T06:46:54.362278Z"
    },
    "papermill": {
     "duration": 0.19944,
     "end_time": "2024-05-16T06:46:54.365675",
     "exception": false,
     "start_time": "2024-05-16T06:46:54.166235",
     "status": "completed"
    },
    "tags": []
   },
   "outputs": [
    {
     "data": {
      "image/png": "[encoded data removed]",
      "text/plain": [
       "<Figure size 640x480 with 1 Axes>"
      ]
     },
     "metadata": {},
     "output_type": "display_data"
    }
   ],
   "source": [
    "sns.boxplot(df['target'])\n",
    "plt.show()"
   ]
  },
  {
   "cell_type": "markdown",
   "id": "4075e52b",
   "metadata": {
    "papermill": {
     "duration": 0.016777,
     "end_time": "2024-05-16T06:46:54.398843",
     "exception": false,
     "start_time": "2024-05-16T06:46:54.382066",
     "status": "completed"
    },
    "tags": []
   },
   "source": [
    "**But we don't treat outliers acc to this type of data**"
   ]
  },
  {
   "cell_type": "markdown",
   "id": "459965cc",
   "metadata": {
    "papermill": {
     "duration": 0.016251,
     "end_time": "2024-05-16T06:46:54.432287",
     "exception": false,
     "start_time": "2024-05-16T06:46:54.416036",
     "status": "completed"
    },
    "tags": []
   },
   "source": [
    "**Analyzing Categorical Variables**"
   ]
  },
  {
   "cell_type": "code",
   "execution_count": 16,
   "id": "3ac72aab",
   "metadata": {
    "execution": {
     "iopub.execute_input": "2024-05-16T06:46:54.466887Z",
     "iopub.status.busy": "2024-05-16T06:46:54.466477Z",
     "iopub.status.idle": "2024-05-16T06:46:54.516085Z",
     "shell.execute_reply": "2024-05-16T06:46:54.515104Z"
    },
    "papermill": {
     "duration": 0.069733,
     "end_time": "2024-05-16T06:46:54.518550",
     "exception": false,
     "start_time": "2024-05-16T06:46:54.448817",
     "status": "completed"
    },
    "tags": []
   },
   "outputs": [
    {
     "data": {
      "text/html": [
       "<div>\n",
       "<style scoped>\n",
       "    .dataframe tbody tr th:only-of-type {\n",
       "        vertical-align: middle;\n",
       "    }\n",
       "\n",
       "    .dataframe tbody tr th {\n",
       "        vertical-align: top;\n",
       "    }\n",
       "\n",
       "    .dataframe thead th {\n",
       "        text-align: right;\n",
       "    }\n",
       "</style>\n",
       "<table border=\"1\" class=\"dataframe\">\n",
       "  <thead>\n",
       "    <tr style=\"text-align: right;\">\n",
       "      <th></th>\n",
       "      <th>city</th>\n",
       "      <th>gender</th>\n",
       "      <th>relevent_experience</th>\n",
       "      <th>enrolled_university</th>\n",
       "      <th>education_level</th>\n",
       "      <th>major_discipline</th>\n",
       "      <th>experience</th>\n",
       "      <th>company_size</th>\n",
       "      <th>company_type</th>\n",
       "      <th>last_new_job</th>\n",
       "    </tr>\n",
       "  </thead>\n",
       "  <tbody>\n",
       "    <tr>\n",
       "      <th>count</th>\n",
       "      <td>19158</td>\n",
       "      <td>14650</td>\n",
       "      <td>19158</td>\n",
       "      <td>18772</td>\n",
       "      <td>18698</td>\n",
       "      <td>16345</td>\n",
       "      <td>19093</td>\n",
       "      <td>13220</td>\n",
       "      <td>13018</td>\n",
       "      <td>18735</td>\n",
       "    </tr>\n",
       "    <tr>\n",
       "      <th>unique</th>\n",
       "      <td>123</td>\n",
       "      <td>3</td>\n",
       "      <td>2</td>\n",
       "      <td>3</td>\n",
       "      <td>5</td>\n",
       "      <td>6</td>\n",
       "      <td>22</td>\n",
       "      <td>8</td>\n",
       "      <td>6</td>\n",
       "      <td>6</td>\n",
       "    </tr>\n",
       "    <tr>\n",
       "      <th>top</th>\n",
       "      <td>city_103</td>\n",
       "      <td>Male</td>\n",
       "      <td>Has relevent experience</td>\n",
       "      <td>no_enrollment</td>\n",
       "      <td>Graduate</td>\n",
       "      <td>STEM</td>\n",
       "      <td>&gt;20</td>\n",
       "      <td>50-99</td>\n",
       "      <td>Pvt Ltd</td>\n",
       "      <td>1</td>\n",
       "    </tr>\n",
       "    <tr>\n",
       "      <th>freq</th>\n",
       "      <td>4355</td>\n",
       "      <td>13221</td>\n",
       "      <td>13792</td>\n",
       "      <td>13817</td>\n",
       "      <td>11598</td>\n",
       "      <td>14492</td>\n",
       "      <td>3286</td>\n",
       "      <td>3083</td>\n",
       "      <td>9817</td>\n",
       "      <td>8040</td>\n",
       "    </tr>\n",
       "  </tbody>\n",
       "</table>\n",
       "</div>"
      ],
      "text/plain": [
       "            city gender      relevent_experience enrolled_university  \\\n",
       "count      19158  14650                    19158               18772   \n",
       "unique       123      3                        2                   3   \n",
       "top     city_103   Male  Has relevent experience       no_enrollment   \n",
       "freq        4355  13221                    13792               13817   \n",
       "\n",
       "       education_level major_discipline experience company_size company_type  \\\n",
       "count            18698            16345      19093        13220        13018   \n",
       "unique               5                6         22            8            6   \n",
       "top           Graduate             STEM        >20        50-99      Pvt Ltd   \n",
       "freq             11598            14492       3286         3083         9817   \n",
       "\n",
       "       last_new_job  \n",
       "count         18735  \n",
       "unique            6  \n",
       "top               1  \n",
       "freq           8040  "
      ]
     },
     "execution_count": 16,
     "metadata": {},
     "output_type": "execute_result"
    }
   ],
   "source": [
    "df.describe(include='object')"
   ]
  },
  {
   "cell_type": "code",
   "execution_count": 17,
   "id": "7afbd719",
   "metadata": {
    "execution": {
     "iopub.execute_input": "2024-05-16T06:46:54.554839Z",
     "iopub.status.busy": "2024-05-16T06:46:54.553682Z",
     "iopub.status.idle": "2024-05-16T06:46:54.563743Z",
     "shell.execute_reply": "2024-05-16T06:46:54.562772Z"
    },
    "papermill": {
     "duration": 0.030097,
     "end_time": "2024-05-16T06:46:54.565964",
     "exception": false,
     "start_time": "2024-05-16T06:46:54.535867",
     "status": "completed"
    },
    "tags": []
   },
   "outputs": [
    {
     "data": {
      "text/plain": [
       "city\n",
       "city_103    4355\n",
       "city_21     2702\n",
       "city_16     1533\n",
       "city_114    1336\n",
       "city_160     845\n",
       "            ... \n",
       "city_129       3\n",
       "city_111       3\n",
       "city_121       3\n",
       "city_140       1\n",
       "city_171       1\n",
       "Name: count, Length: 123, dtype: int64"
      ]
     },
     "execution_count": 17,
     "metadata": {},
     "output_type": "execute_result"
    }
   ],
   "source": [
    "df['city'].value_counts()"
   ]
  },
  {
   "cell_type": "code",
   "execution_count": 18,
   "id": "5eb00fe6",
   "metadata": {
    "execution": {
     "iopub.execute_input": "2024-05-16T06:46:54.602642Z",
     "iopub.status.busy": "2024-05-16T06:46:54.601973Z",
     "iopub.status.idle": "2024-05-16T06:46:55.700432Z",
     "shell.execute_reply": "2024-05-16T06:46:55.699300Z"
    },
    "papermill": {
     "duration": 1.119918,
     "end_time": "2024-05-16T06:46:55.702823",
     "exception": false,
     "start_time": "2024-05-16T06:46:54.582905",
     "status": "completed"
    },
    "tags": []
   },
   "outputs": [
    {
     "data": {
      "image/png": "[encoded data removed]",
      "text/plain": [
       "<Figure size 640x480 with 1 Axes>"
      ]
     },
     "metadata": {},
     "output_type": "display_data"
    }
   ],
   "source": [
    "sns.countplot(x='city', data=df)\n",
    "plt.show()"
   ]
  },
  {
   "cell_type": "markdown",
   "id": "2432db1f",
   "metadata": {
    "papermill": {
     "duration": 0.017829,
     "end_time": "2024-05-16T06:46:55.738350",
     "exception": false,
     "start_time": "2024-05-16T06:46:55.720521",
     "status": "completed"
    },
    "tags": []
   },
   "source": [
    "* City 103 has max occurance of 4355\n",
    "* City 21 and City 16 has 2nd and 3rd max occurance of 2702 and 1533\n",
    "* City 140 and City 171 has min occurance of 1"
   ]
  },
  {
   "cell_type": "code",
   "execution_count": 19,
   "id": "c024f7a9",
   "metadata": {
    "execution": {
     "iopub.execute_input": "2024-05-16T06:46:55.778251Z",
     "iopub.status.busy": "2024-05-16T06:46:55.777836Z",
     "iopub.status.idle": "2024-05-16T06:46:55.786677Z",
     "shell.execute_reply": "2024-05-16T06:46:55.785809Z"
    },
    "papermill": {
     "duration": 0.02985,
     "end_time": "2024-05-16T06:46:55.788800",
     "exception": false,
     "start_time": "2024-05-16T06:46:55.758950",
     "status": "completed"
    },
    "tags": []
   },
   "outputs": [
    {
     "data": {
      "text/plain": [
       "gender\n",
       "Male      13221\n",
       "NaN        4508\n",
       "Female     1238\n",
       "Other       191\n",
       "Name: count, dtype: int64"
      ]
     },
     "execution_count": 19,
     "metadata": {},
     "output_type": "execute_result"
    }
   ],
   "source": [
    "df['gender'].value_counts(dropna=False)"
   ]
  },
  {
   "cell_type": "code",
   "execution_count": 20,
   "id": "824afbb3",
   "metadata": {
    "execution": {
     "iopub.execute_input": "2024-05-16T06:46:55.825596Z",
     "iopub.status.busy": "2024-05-16T06:46:55.824613Z",
     "iopub.status.idle": "2024-05-16T06:46:56.027264Z",
     "shell.execute_reply": "2024-05-16T06:46:56.026170Z"
    },
    "papermill": {
     "duration": 0.223978,
     "end_time": "2024-05-16T06:46:56.030057",
     "exception": false,
     "start_time": "2024-05-16T06:46:55.806079",
     "status": "completed"
    },
    "tags": []
   },
   "outputs": [
    {
     "data": {
      "image/png": "[encoded data removed]",
      "text/plain": [
       "<Figure size 640x480 with 1 Axes>"
      ]
     },
     "metadata": {},
     "output_type": "display_data"
    }
   ],
   "source": [
    "sns.countplot(x='gender',data=df)\n",
    "plt.show()"
   ]
  },
  {
   "cell_type": "markdown",
   "id": "1b2b7a57",
   "metadata": {
    "papermill": {
     "duration": 0.017346,
     "end_time": "2024-05-16T06:46:56.066204",
     "exception": false,
     "start_time": "2024-05-16T06:46:56.048858",
     "status": "completed"
    },
    "tags": []
   },
   "source": [
    "* Max employees are Male\n",
    "* 4508 employees have not specified gender"
   ]
  },
  {
   "cell_type": "code",
   "execution_count": 21,
   "id": "6518ddc8",
   "metadata": {
    "execution": {
     "iopub.execute_input": "2024-05-16T06:46:56.104429Z",
     "iopub.status.busy": "2024-05-16T06:46:56.103833Z",
     "iopub.status.idle": "2024-05-16T06:46:56.112263Z",
     "shell.execute_reply": "2024-05-16T06:46:56.111166Z"
    },
    "papermill": {
     "duration": 0.02992,
     "end_time": "2024-05-16T06:46:56.114435",
     "exception": false,
     "start_time": "2024-05-16T06:46:56.084515",
     "status": "completed"
    },
    "tags": []
   },
   "outputs": [
    {
     "data": {
      "text/plain": [
       "relevent_experience\n",
       "Has relevent experience    13792\n",
       "No relevent experience      5366\n",
       "Name: count, dtype: int64"
      ]
     },
     "execution_count": 21,
     "metadata": {},
     "output_type": "execute_result"
    }
   ],
   "source": [
    "df['relevent_experience'].value_counts(dropna=False)"
   ]
  },
  {
   "cell_type": "code",
   "execution_count": 22,
   "id": "543e53a7",
   "metadata": {
    "execution": {
     "iopub.execute_input": "2024-05-16T06:46:56.152789Z",
     "iopub.status.busy": "2024-05-16T06:46:56.152387Z",
     "iopub.status.idle": "2024-05-16T06:46:56.326053Z",
     "shell.execute_reply": "2024-05-16T06:46:56.319388Z"
    },
    "papermill": {
     "duration": 0.196051,
     "end_time": "2024-05-16T06:46:56.328590",
     "exception": false,
     "start_time": "2024-05-16T06:46:56.132539",
     "status": "completed"
    },
    "tags": []
   },
   "outputs": [
    {
     "data": {
      "image/png": "[encoded data removed]",
      "text/plain": [
       "<Figure size 640x480 with 1 Axes>"
      ]
     },
     "metadata": {},
     "output_type": "display_data"
    }
   ],
   "source": [
    "sns.countplot(x='relevent_experience', data=df)\n",
    "plt.show()"
   ]
  },
  {
   "cell_type": "markdown",
   "id": "5f35d317",
   "metadata": {
    "papermill": {
     "duration": 0.017899,
     "end_time": "2024-05-16T06:46:56.364877",
     "exception": false,
     "start_time": "2024-05-16T06:46:56.346978",
     "status": "completed"
    },
    "tags": []
   },
   "source": [
    "* Max employees has relevent experience"
   ]
  },
  {
   "cell_type": "code",
   "execution_count": 23,
   "id": "6a4a16de",
   "metadata": {
    "execution": {
     "iopub.execute_input": "2024-05-16T06:46:56.403515Z",
     "iopub.status.busy": "2024-05-16T06:46:56.402779Z",
     "iopub.status.idle": "2024-05-16T06:46:56.411774Z",
     "shell.execute_reply": "2024-05-16T06:46:56.410710Z"
    },
    "papermill": {
     "duration": 0.030861,
     "end_time": "2024-05-16T06:46:56.413979",
     "exception": false,
     "start_time": "2024-05-16T06:46:56.383118",
     "status": "completed"
    },
    "tags": []
   },
   "outputs": [
    {
     "data": {
      "text/plain": [
       "enrolled_university\n",
       "no_enrollment       13817\n",
       "Full time course     3757\n",
       "Part time course     1198\n",
       "NaN                   386\n",
       "Name: count, dtype: int64"
      ]
     },
     "execution_count": 23,
     "metadata": {},
     "output_type": "execute_result"
    }
   ],
   "source": [
    "df['enrolled_university'].value_counts(dropna=False)"
   ]
  },
  {
   "cell_type": "code",
   "execution_count": 24,
   "id": "6635a4e1",
   "metadata": {
    "execution": {
     "iopub.execute_input": "2024-05-16T06:46:56.453561Z",
     "iopub.status.busy": "2024-05-16T06:46:56.452821Z",
     "iopub.status.idle": "2024-05-16T06:46:56.610313Z",
     "shell.execute_reply": "2024-05-16T06:46:56.609227Z"
    },
    "papermill": {
     "duration": 0.179813,
     "end_time": "2024-05-16T06:46:56.612852",
     "exception": false,
     "start_time": "2024-05-16T06:46:56.433039",
     "status": "completed"
    },
    "tags": []
   },
   "outputs": [
    {
     "data": {
      "image/png": "[encoded data removed]",
      "text/plain": [
       "<Figure size 640x480 with 1 Axes>"
      ]
     },
     "metadata": {},
     "output_type": "display_data"
    }
   ],
   "source": [
    "sns.countplot(x='enrolled_university', data=df)\n",
    "plt.show()"
   ]
  },
  {
   "cell_type": "markdown",
   "id": "f031eef9",
   "metadata": {
    "papermill": {
     "duration": 0.018268,
     "end_time": "2024-05-16T06:46:56.649897",
     "exception": false,
     "start_time": "2024-05-16T06:46:56.631629",
     "status": "completed"
    },
    "tags": []
   },
   "source": [
    "* Max employees have not enrolled in any university\n",
    "* 386 employees have not specified "
   ]
  },
  {
   "cell_type": "code",
   "execution_count": 25,
   "id": "13138b88",
   "metadata": {
    "execution": {
     "iopub.execute_input": "2024-05-16T06:46:56.690296Z",
     "iopub.status.busy": "2024-05-16T06:46:56.689241Z",
     "iopub.status.idle": "2024-05-16T06:46:56.698490Z",
     "shell.execute_reply": "2024-05-16T06:46:56.697749Z"
    },
    "papermill": {
     "duration": 0.031868,
     "end_time": "2024-05-16T06:46:56.700600",
     "exception": false,
     "start_time": "2024-05-16T06:46:56.668732",
     "status": "completed"
    },
    "tags": []
   },
   "outputs": [
    {
     "data": {
      "text/plain": [
       "education_level\n",
       "Graduate          11598\n",
       "Masters            4361\n",
       "High School        2017\n",
       "NaN                 460\n",
       "Phd                 414\n",
       "Primary School      308\n",
       "Name: count, dtype: int64"
      ]
     },
     "execution_count": 25,
     "metadata": {},
     "output_type": "execute_result"
    }
   ],
   "source": [
    "df['education_level'].value_counts(dropna=False)"
   ]
  },
  {
   "cell_type": "code",
   "execution_count": 26,
   "id": "cc132cf5",
   "metadata": {
    "execution": {
     "iopub.execute_input": "2024-05-16T06:46:56.739644Z",
     "iopub.status.busy": "2024-05-16T06:46:56.739279Z",
     "iopub.status.idle": "2024-05-16T06:46:56.908010Z",
     "shell.execute_reply": "2024-05-16T06:46:56.906892Z"
    },
    "papermill": {
     "duration": 0.191068,
     "end_time": "2024-05-16T06:46:56.910344",
     "exception": false,
     "start_time": "2024-05-16T06:46:56.719276",
     "status": "completed"
    },
    "tags": []
   },
   "outputs": [
    {
     "data": {
      "image/png": "[encoded data removed]",
      "text/plain": [
       "<Figure size 640x480 with 1 Axes>"
      ]
     },
     "metadata": {},
     "output_type": "display_data"
    }
   ],
   "source": [
    "sns.countplot(x='education_level', data=df)\n",
    "plt.show()"
   ]
  },
  {
   "cell_type": "markdown",
   "id": "fcac7224",
   "metadata": {
    "papermill": {
     "duration": 0.018963,
     "end_time": "2024-05-16T06:46:56.948787",
     "exception": false,
     "start_time": "2024-05-16T06:46:56.929824",
     "status": "completed"
    },
    "tags": []
   },
   "source": [
    "* Max employees have education level of Graduation\n",
    "* 460 employees have not specified education level"
   ]
  },
  {
   "cell_type": "code",
   "execution_count": 27,
   "id": "b9b9cae5",
   "metadata": {
    "execution": {
     "iopub.execute_input": "2024-05-16T06:46:56.988754Z",
     "iopub.status.busy": "2024-05-16T06:46:56.988372Z",
     "iopub.status.idle": "2024-05-16T06:46:56.996859Z",
     "shell.execute_reply": "2024-05-16T06:46:56.995781Z"
    },
    "papermill": {
     "duration": 0.031339,
     "end_time": "2024-05-16T06:46:56.999177",
     "exception": false,
     "start_time": "2024-05-16T06:46:56.967838",
     "status": "completed"
    },
    "tags": []
   },
   "outputs": [
    {
     "data": {
      "text/plain": [
       "major_discipline\n",
       "STEM               14492\n",
       "NaN                 2813\n",
       "Humanities           669\n",
       "Other                381\n",
       "Business Degree      327\n",
       "Arts                 253\n",
       "No Major             223\n",
       "Name: count, dtype: int64"
      ]
     },
     "execution_count": 27,
     "metadata": {},
     "output_type": "execute_result"
    }
   ],
   "source": [
    "df['major_discipline'].value_counts(dropna=False)"
   ]
  },
  {
   "cell_type": "code",
   "execution_count": 28,
   "id": "e00e34ea",
   "metadata": {
    "execution": {
     "iopub.execute_input": "2024-05-16T06:46:57.039842Z",
     "iopub.status.busy": "2024-05-16T06:46:57.039421Z",
     "iopub.status.idle": "2024-05-16T06:46:57.221738Z",
     "shell.execute_reply": "2024-05-16T06:46:57.220522Z"
    },
    "papermill": {
     "duration": 0.205821,
     "end_time": "2024-05-16T06:46:57.224311",
     "exception": false,
     "start_time": "2024-05-16T06:46:57.018490",
     "status": "completed"
    },
    "tags": []
   },
   "outputs": [
    {
     "data": {
      "image/png": "[encoded data removed]",
      "text/plain": [
       "<Figure size 640x480 with 1 Axes>"
      ]
     },
     "metadata": {},
     "output_type": "display_data"
    }
   ],
   "source": [
    "sns.countplot(x='major_discipline', data=df)\n",
    "plt.show()"
   ]
  },
  {
   "cell_type": "markdown",
   "id": "5bb5b10b",
   "metadata": {
    "papermill": {
     "duration": 0.020137,
     "end_time": "2024-05-16T06:46:57.264641",
     "exception": false,
     "start_time": "2024-05-16T06:46:57.244504",
     "status": "completed"
    },
    "tags": []
   },
   "source": [
    "* Max employees have major descipline STEM\n",
    "* 2813 eployees have not specified major discipline"
   ]
  },
  {
   "cell_type": "code",
   "execution_count": 29,
   "id": "1a3d6f74",
   "metadata": {
    "execution": {
     "iopub.execute_input": "2024-05-16T06:46:57.307239Z",
     "iopub.status.busy": "2024-05-16T06:46:57.306229Z",
     "iopub.status.idle": "2024-05-16T06:46:57.315122Z",
     "shell.execute_reply": "2024-05-16T06:46:57.313925Z"
    },
    "papermill": {
     "duration": 0.032132,
     "end_time": "2024-05-16T06:46:57.317288",
     "exception": false,
     "start_time": "2024-05-16T06:46:57.285156",
     "status": "completed"
    },
    "tags": []
   },
   "outputs": [
    {
     "data": {
      "text/plain": [
       "experience\n",
       ">20    3286\n",
       "5      1430\n",
       "4      1403\n",
       "3      1354\n",
       "6      1216\n",
       "2      1127\n",
       "7      1028\n",
       "10      985\n",
       "9       980\n",
       "8       802\n",
       "15      686\n",
       "11      664\n",
       "14      586\n",
       "1       549\n",
       "<1      522\n",
       "16      508\n",
       "12      494\n",
       "13      399\n",
       "17      342\n",
       "19      304\n",
       "18      280\n",
       "20      148\n",
       "NaN      65\n",
       "Name: count, dtype: int64"
      ]
     },
     "execution_count": 29,
     "metadata": {},
     "output_type": "execute_result"
    }
   ],
   "source": [
    "df['experience'].value_counts(dropna=False)"
   ]
  },
  {
   "cell_type": "code",
   "execution_count": 30,
   "id": "87f0164f",
   "metadata": {
    "execution": {
     "iopub.execute_input": "2024-05-16T06:46:57.360051Z",
     "iopub.status.busy": "2024-05-16T06:46:57.359654Z",
     "iopub.status.idle": "2024-05-16T06:46:57.636327Z",
     "shell.execute_reply": "2024-05-16T06:46:57.635246Z"
    },
    "papermill": {
     "duration": 0.300842,
     "end_time": "2024-05-16T06:46:57.638737",
     "exception": false,
     "start_time": "2024-05-16T06:46:57.337895",
     "status": "completed"
    },
    "tags": []
   },
   "outputs": [
    {
     "data": {
      "image/png": "[encoded data removed]",
      "text/plain": [
       "<Figure size 640x480 with 1 Axes>"
      ]
     },
     "metadata": {},
     "output_type": "display_data"
    }
   ],
   "source": [
    "sns.countplot(x='experience', data=df)\n",
    "plt.show()"
   ]
  },
  {
   "cell_type": "markdown",
   "id": "3ba03c41",
   "metadata": {
    "papermill": {
     "duration": 0.020977,
     "end_time": "2024-05-16T06:46:57.680617",
     "exception": false,
     "start_time": "2024-05-16T06:46:57.659640",
     "status": "completed"
    },
    "tags": []
   },
   "source": [
    "* Max employees have experience of more than 20 years\n",
    "* 65 employees have not specified experience"
   ]
  },
  {
   "cell_type": "code",
   "execution_count": 31,
   "id": "e4a332ef",
   "metadata": {
    "execution": {
     "iopub.execute_input": "2024-05-16T06:46:57.723711Z",
     "iopub.status.busy": "2024-05-16T06:46:57.723312Z",
     "iopub.status.idle": "2024-05-16T06:46:57.732304Z",
     "shell.execute_reply": "2024-05-16T06:46:57.731077Z"
    },
    "papermill": {
     "duration": 0.033402,
     "end_time": "2024-05-16T06:46:57.734489",
     "exception": false,
     "start_time": "2024-05-16T06:46:57.701087",
     "status": "completed"
    },
    "tags": []
   },
   "outputs": [
    {
     "data": {
      "text/plain": [
       "company_size\n",
       "NaN          5938\n",
       "50-99        3083\n",
       "100-500      2571\n",
       "10000+       2019\n",
       "10/49        1471\n",
       "1000-4999    1328\n",
       "<10          1308\n",
       "500-999       877\n",
       "5000-9999     563\n",
       "Name: count, dtype: int64"
      ]
     },
     "execution_count": 31,
     "metadata": {},
     "output_type": "execute_result"
    }
   ],
   "source": [
    "df['company_size'].value_counts(dropna=False)"
   ]
  },
  {
   "cell_type": "code",
   "execution_count": 32,
   "id": "efd24971",
   "metadata": {
    "execution": {
     "iopub.execute_input": "2024-05-16T06:46:57.779130Z",
     "iopub.status.busy": "2024-05-16T06:46:57.778678Z",
     "iopub.status.idle": "2024-05-16T06:46:58.074166Z",
     "shell.execute_reply": "2024-05-16T06:46:58.072996Z"
    },
    "papermill": {
     "duration": 0.321791,
     "end_time": "2024-05-16T06:46:58.077178",
     "exception": false,
     "start_time": "2024-05-16T06:46:57.755387",
     "status": "completed"
    },
    "tags": []
   },
   "outputs": [
    {
     "data": {
      "image/png": "[encoded data removed]",
      "text/plain": [
       "<Figure size 640x480 with 1 Axes>"
      ]
     },
     "metadata": {},
     "output_type": "display_data"
    }
   ],
   "source": [
    "sns.countplot(x='company_size', data=df)\n",
    "plt.show()"
   ]
  },
  {
   "cell_type": "markdown",
   "id": "b2e4686f",
   "metadata": {
    "papermill": {
     "duration": 0.020606,
     "end_time": "2024-05-16T06:46:58.121056",
     "exception": false,
     "start_time": "2024-05-16T06:46:58.100450",
     "status": "completed"
    },
    "tags": []
   },
   "source": [
    "* Max employees have not specified their current company size "
   ]
  },
  {
   "cell_type": "code",
   "execution_count": 33,
   "id": "060bdfa3",
   "metadata": {
    "execution": {
     "iopub.execute_input": "2024-05-16T06:46:58.165070Z",
     "iopub.status.busy": "2024-05-16T06:46:58.164445Z",
     "iopub.status.idle": "2024-05-16T06:46:58.174707Z",
     "shell.execute_reply": "2024-05-16T06:46:58.173298Z"
    },
    "papermill": {
     "duration": 0.034808,
     "end_time": "2024-05-16T06:46:58.177020",
     "exception": false,
     "start_time": "2024-05-16T06:46:58.142212",
     "status": "completed"
    },
    "tags": []
   },
   "outputs": [
    {
     "data": {
      "text/plain": [
       "company_type\n",
       "Pvt Ltd                9817\n",
       "NaN                    6140\n",
       "Funded Startup         1001\n",
       "Public Sector           955\n",
       "Early Stage Startup     603\n",
       "NGO                     521\n",
       "Other                   121\n",
       "Name: count, dtype: int64"
      ]
     },
     "execution_count": 33,
     "metadata": {},
     "output_type": "execute_result"
    }
   ],
   "source": [
    "df['company_type'].value_counts(dropna=False)"
   ]
  },
  {
   "cell_type": "code",
   "execution_count": 34,
   "id": "19a6daf5",
   "metadata": {
    "execution": {
     "iopub.execute_input": "2024-05-16T06:46:58.221318Z",
     "iopub.status.busy": "2024-05-16T06:46:58.220721Z",
     "iopub.status.idle": "2024-05-16T06:46:58.437915Z",
     "shell.execute_reply": "2024-05-16T06:46:58.436785Z"
    },
    "papermill": {
     "duration": 0.241944,
     "end_time": "2024-05-16T06:46:58.440180",
     "exception": false,
     "start_time": "2024-05-16T06:46:58.198236",
     "status": "completed"
    },
    "tags": []
   },
   "outputs": [
    {
     "data": {
      "image/png": "[encoded data removed]",
      "text/plain": [
       "<Figure size 640x480 with 1 Axes>"
      ]
     },
     "metadata": {},
     "output_type": "display_data"
    }
   ],
   "source": [
    "sns.countplot(x='company_type', data=df)\n",
    "plt.show()"
   ]
  },
  {
   "cell_type": "markdown",
   "id": "543c917c",
   "metadata": {
    "papermill": {
     "duration": 0.021146,
     "end_time": "2024-05-16T06:46:58.482901",
     "exception": false,
     "start_time": "2024-05-16T06:46:58.461755",
     "status": "completed"
    },
    "tags": []
   },
   "source": [
    "* Max employees have Private ltd company type\n",
    "* 6140 have not specified their company type"
   ]
  },
  {
   "cell_type": "code",
   "execution_count": 35,
   "id": "4740fc25",
   "metadata": {
    "execution": {
     "iopub.execute_input": "2024-05-16T06:46:58.527808Z",
     "iopub.status.busy": "2024-05-16T06:46:58.527184Z",
     "iopub.status.idle": "2024-05-16T06:46:58.535876Z",
     "shell.execute_reply": "2024-05-16T06:46:58.534782Z"
    },
    "papermill": {
     "duration": 0.033657,
     "end_time": "2024-05-16T06:46:58.537931",
     "exception": false,
     "start_time": "2024-05-16T06:46:58.504274",
     "status": "completed"
    },
    "tags": []
   },
   "outputs": [
    {
     "data": {
      "text/plain": [
       "last_new_job\n",
       "1        8040\n",
       ">4       3290\n",
       "2        2900\n",
       "never    2452\n",
       "4        1029\n",
       "3        1024\n",
       "NaN       423\n",
       "Name: count, dtype: int64"
      ]
     },
     "execution_count": 35,
     "metadata": {},
     "output_type": "execute_result"
    }
   ],
   "source": [
    "df['last_new_job'].value_counts(dropna=False)"
   ]
  },
  {
   "cell_type": "code",
   "execution_count": 36,
   "id": "f7762f93",
   "metadata": {
    "execution": {
     "iopub.execute_input": "2024-05-16T06:46:58.583090Z",
     "iopub.status.busy": "2024-05-16T06:46:58.582475Z",
     "iopub.status.idle": "2024-05-16T06:46:58.806208Z",
     "shell.execute_reply": "2024-05-16T06:46:58.805081Z"
    },
    "papermill": {
     "duration": 0.248923,
     "end_time": "2024-05-16T06:46:58.808438",
     "exception": false,
     "start_time": "2024-05-16T06:46:58.559515",
     "status": "completed"
    },
    "tags": []
   },
   "outputs": [
    {
     "data": {
      "image/png": "[encoded data removed]",
      "text/plain": [
       "<Figure size 640x480 with 1 Axes>"
      ]
     },
     "metadata": {},
     "output_type": "display_data"
    }
   ],
   "source": [
    "sns.countplot(x='last_new_job', data=df)\n",
    "plt.show()"
   ]
  },
  {
   "cell_type": "markdown",
   "id": "a9ce2f85",
   "metadata": {
    "papermill": {
     "duration": 0.021341,
     "end_time": "2024-05-16T06:46:58.851525",
     "exception": false,
     "start_time": "2024-05-16T06:46:58.830184",
     "status": "completed"
    },
    "tags": []
   },
   "source": [
    "* Max employees have 1 year of gap between previous job and current job\n",
    "* 423 have not specified this"
   ]
  },
  {
   "cell_type": "markdown",
   "id": "35f9a943",
   "metadata": {
    "papermill": {
     "duration": 0.021546,
     "end_time": "2024-05-16T06:46:58.894740",
     "exception": false,
     "start_time": "2024-05-16T06:46:58.873194",
     "status": "completed"
    },
    "tags": []
   },
   "source": [
    "**Number of employees want to change job**"
   ]
  },
  {
   "cell_type": "code",
   "execution_count": 37,
   "id": "949d08b3",
   "metadata": {
    "execution": {
     "iopub.execute_input": "2024-05-16T06:46:58.939737Z",
     "iopub.status.busy": "2024-05-16T06:46:58.939362Z",
     "iopub.status.idle": "2024-05-16T06:46:59.061906Z",
     "shell.execute_reply": "2024-05-16T06:46:59.060500Z"
    },
    "papermill": {
     "duration": 0.149477,
     "end_time": "2024-05-16T06:46:59.065785",
     "exception": false,
     "start_time": "2024-05-16T06:46:58.916308",
     "status": "completed"
    },
    "tags": []
   },
   "outputs": [
    {
     "data": {
      "image/png": "[encoded data removed]",
      "text/plain": [
       "<Figure size 640x480 with 1 Axes>"
      ]
     },
     "metadata": {},
     "output_type": "display_data"
    }
   ],
   "source": [
    "plt.pie(df['target'].value_counts(), labels=df['target'].unique(), autopct='%0.1f%%')\n",
    "plt.show()"
   ]
  },
  {
   "cell_type": "markdown",
   "id": "d54de456",
   "metadata": {
    "papermill": {
     "duration": 0.036438,
     "end_time": "2024-05-16T06:46:59.142668",
     "exception": false,
     "start_time": "2024-05-16T06:46:59.106230",
     "status": "completed"
    },
    "tags": []
   },
   "source": [
    "**75% of employees want to change job**"
   ]
  },
  {
   "cell_type": "markdown",
   "id": "ae1e3e30",
   "metadata": {
    "papermill": {
     "duration": 0.021658,
     "end_time": "2024-05-16T06:46:59.186341",
     "exception": false,
     "start_time": "2024-05-16T06:46:59.164683",
     "status": "completed"
    },
    "tags": []
   },
   "source": [
    "**On gender based how many want to change job**"
   ]
  },
  {
   "cell_type": "code",
   "execution_count": 38,
   "id": "fb92ce90",
   "metadata": {
    "execution": {
     "iopub.execute_input": "2024-05-16T06:46:59.233328Z",
     "iopub.status.busy": "2024-05-16T06:46:59.232190Z",
     "iopub.status.idle": "2024-05-16T06:46:59.495667Z",
     "shell.execute_reply": "2024-05-16T06:46:59.494839Z"
    },
    "papermill": {
     "duration": 0.289501,
     "end_time": "2024-05-16T06:46:59.497793",
     "exception": false,
     "start_time": "2024-05-16T06:46:59.208292",
     "status": "completed"
    },
    "tags": []
   },
   "outputs": [
    {
     "data": {
      "image/png": "[encoded data removed]",
      "text/plain": [
       "<Figure size 640x480 with 1 Axes>"
      ]
     },
     "metadata": {},
     "output_type": "display_data"
    }
   ],
   "source": [
    "sns.histplot(x=df['gender'],hue=df['target'])\n",
    "plt.show()"
   ]
  },
  {
   "cell_type": "markdown",
   "id": "bd4cc540",
   "metadata": {
    "papermill": {
     "duration": 0.021964,
     "end_time": "2024-05-16T06:46:59.542085",
     "exception": false,
     "start_time": "2024-05-16T06:46:59.520121",
     "status": "completed"
    },
    "tags": []
   },
   "source": [
    "**As we can see more number of Males are there who want to change their job**"
   ]
  }
 ],
 "metadata": {
  "kaggle": {
   "accelerator": "none",
   "dataSources": [
    {
     "datasetId": 1019790,
     "sourceId": 1719283,
     "sourceType": "datasetVersion"
    }
   ],
   "dockerImageVersionId": 30698,
   "isGpuEnabled": false,
   "isInternetEnabled": true,
   "language": "python",
   "sourceType": "notebook"
  },
  "kernelspec": {
   "display_name": "Python 3",
   "language": "python",
   "name": "python3"
  },
  "language_info": {
   "codemirror_mode": {
    "name": "ipython",
    "version": 3
   },
   "file_extension": ".py",
   "mimetype": "text/x-python",
   "name": "python",
   "nbconvert_exporter": "python",
   "pygments_lexer": "ipython3",
   "version": "3.10.13"
  },
  "papermill": {
   "default_parameters": {},
   "duration": 14.017487,
   "end_time": "2024-05-16T06:47:00.185819",
   "environment_variables": {},
   "exception": null,
   "input_path": "__notebook__.ipynb",
   "output_path": "__notebook__.ipynb",
   "parameters": {},
   "start_time": "2024-05-16T06:46:46.168332",
   "version": "2.5.0"
  }
 },
 "nbformat": 4,
 "nbformat_minor": 5
}
